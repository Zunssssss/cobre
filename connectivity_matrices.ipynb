{
 "cells": [
  {
   "cell_type": "markdown",
   "metadata": {},
   "source": [
    "# Connectivity matrices"
   ]
  },
  {
   "cell_type": "markdown",
   "metadata": {},
   "source": [
    "## Extraction and plotting\n",
    "\n",
    "Here I read the atlas partitioned datasets and calculate the connectivity matrix for each subject"
   ]
  },
  {
   "cell_type": "code",
   "execution_count": 1,
   "metadata": {
    "collapsed": false
   },
   "outputs": [],
   "source": [
    "%matplotlib inline\n",
    "\n",
    "import h5py\n",
    "import os.path           as     op\n",
    "import numpy             as     np\n",
    "import matplotlib.pyplot as     plt\n",
    "import seaborn           as     sns\n",
    "from   functools         import partial\n",
    "from   natsort           import natsorted\n",
    "from   collections       import OrderedDict\n",
    "\n",
    "from   boyle.storage            import (get_dataset_names, get_group_names, get_datasets, \n",
    "                                        save_variables_to_hdf5, extract_datasets)\n",
    "from   luigi.similarity_measure import SimilarityMeasureFactory\n",
    "from   luigi.selection          import TimeSeriesSelectorFactory\n",
    "from   luigi.connectivity       import build_timeseries, transform_timeseries, calculate_connectivity"
   ]
  },
  {
   "cell_type": "code",
   "execution_count": 2,
   "metadata": {
    "collapsed": false
   },
   "outputs": [],
   "source": [
    "timeseries_h5path = '/Users/alexandre/Projects/bcc/cobre/cobre_partitioned_timeseries.hdf5'\n",
    "\n",
    "TR                = 2\n",
    "build_timeseries  = partial(build_timeseries, sampling_interval=TR, pre_filter=None, normalize=None)\n",
    "\n",
    "aalts_groupname     = '/pipe_wtemp_noglob_aal_3mm_func_timeseries'\n",
    "aalconns_groupname  = '/pipe_wtemp_noglob_aal_3mm_connectivities'\n",
    "subj_groups         = get_group_names(timeseries_h5path, aalts_groupname)\n",
    "file_groups         = get_group_names(timeseries_h5path, '/')"
   ]
  },
  {
   "cell_type": "code",
   "execution_count": 3,
   "metadata": {
    "collapsed": true
   },
   "outputs": [],
   "source": [
    "def get_subject_timeseries(h5file_path, subj_path, sampling_interval=TR):\n",
    "    \"\"\"Return the timeseries of one subject in a HDF5 file.\n",
    "    \n",
    "    Parameters\n",
    "    ----------\n",
    "    h5file_path: str\n",
    "        Path to the hdf5 file with the subject timeseries.\n",
    "    \n",
    "    subj_path: str\n",
    "        HDF5 internal path to the subject.\n",
    "\n",
    "    sampling_interval: int or float\n",
    "        Timeseries sampling interval in seconds.\n",
    "\n",
    "    Returns\n",
    "    -------\n",
    "    timeseries: OrderedDict of nitime.timeseries.TimeSeries\n",
    "        A dictionary with all the partition timeseries of the subject.\n",
    "    \"\"\"\n",
    "    timeseries = OrderedDict()\n",
    "    with h5py.File(h5file_path, mode='r') as timeseries_file:\n",
    "        dspaths    = natsorted(get_dataset_names(timeseries_file, subj_path))\n",
    "        for dspath in dspaths:\n",
    "            timeseries[dspath.split('/')[-1]] = build_timeseries(timeseries_file[dspath][:], \n",
    "                                                                 sampling_interval=sampling_interval)\n",
    "\n",
    "    return timeseries\n",
    "\n",
    "def get_connectivity_matrix(timeseries, selection_method, similarity_measure):\n",
    "    \"\"\"\n",
    "    Parameters\n",
    "    ----------\n",
    "    timeseries: dict or list of (nitime.timeseries.TimeSeries or numpy.ndarray)\n",
    "        The N sets of timeseries of one subject.\n",
    "        \n",
    "    selection_method: str\n",
    "        The name of the timeseries set transformation method.\n",
    "        See `luigi.selection.TimeSeriesSelectorFactory.create_method` more information and the possible choices.\n",
    "    \n",
    "    similarity_method: str\n",
    "        The name of the timeseries set transformation method.\n",
    "        See `luigi.similarity_measure.SimilarityMeasureFactory.create_method` for more information and\n",
    "        the possible choices.\n",
    "    \n",
    "    Returns\n",
    "    -------\n",
    "    connectivity: numpy.ndarray\n",
    "        Matrix of shape (N, N)\n",
    "    \"\"\"\n",
    "    selection  = TimeSeriesSelectorFactory.create_method(selection_method)\n",
    "    similarity = SimilarityMeasureFactory. create_method(similarity_measure)\n",
    "\n",
    "    # transform_timeseries(timeseries, selection_method, **kwargs)\n",
    "    transformed_timeseries = transform_timeseries  (timeseries, selection)\n",
    "\n",
    "    # calculate_connectivity(timeseries_set, measure, sampling_interval, lb=0, ub=None, **kwargs):\n",
    "    return calculate_connectivity(transformed_timeseries, similarity, sampling_interval=TR)\n",
    "\n",
    "\n",
    "def create_group_connectivites(timeseries_h5path, subj_groups, selection_method, similarity_measure):\n",
    "    \"\"\"\n",
    "    Parameters\n",
    "    ----------\n",
    "    timeseries_h5path: str\n",
    "\n",
    "    subj_groups: list of str\n",
    "\n",
    "    selection_method: str\n",
    "        The name of the timeseries set transformation method.\n",
    "        See `luigi.selection.TimeSeriesSelectorFactory.create_method` more information and the possible choices.\n",
    "    \n",
    "    similarity_method: str\n",
    "        The name of the timeseries set transformation method.\n",
    "        See `luigi.similarity_measure.SimilarityMeasureFactory.create_method` for more information and\n",
    "        the possible choices.\n",
    "    \n",
    "    Returns\n",
    "    -------\n",
    "    connectivities: dict\n",
    "        Dictionary with subj_id -> connectivity_matrix\n",
    "    \"\"\"\n",
    "    connectivities = OrderedDict()\n",
    "\n",
    "    for subj_path in subj_groups:\n",
    "        timeseries   = get_subject_timeseries  (timeseries_h5path, subj_path)\n",
    "        connectivity = get_connectivity_matrix (timeseries, selection_method, similarity_measure)\n",
    "        connectivities[subj_path.split('/')[-1]] = connectivity\n",
    "\n",
    "    return connectivites"
   ]
  },
  {
   "cell_type": "code",
   "execution_count": 4,
   "metadata": {
    "collapsed": false
   },
   "outputs": [],
   "source": [
    "def plot_connectivity_matrix(x, title=None, show_ticklabels=False):\n",
    "    sns.set(context=\"paper\", font=\"monospace\")\n",
    "    #sns.set(style=\"darkgrid\")\n",
    "    #sns.set(rc={\"figure.figsize\": (6, 6)})\n",
    "    fig, ax = plt.subplots()\n",
    "    if title:\n",
    "        plt.title(title)\n",
    "\n",
    "    cmap = sns.diverging_palette(220, 10, as_cmap=True)\n",
    "    #sns.corrplot(x, annot=False, sig_stars=False, diag_names=False, cmap=cmap, ax=ax)\n",
    "    sns.heatmap(x, linewidths=0, square=True, cmap=cmap)\n",
    "\n",
    "    #plt.imshow(x, cmap='jet', interpolation='nearest')\n",
    "    plt.setp(ax.get_yticklabels(), visible=show_ticklabels)\n",
    "    plt.setp(ax.get_xticklabels(), visible=show_ticklabels)\n",
    "    #if not show_ticklabels:\n",
    "        #ax.set_xticklabels([])\n",
    "        #ax.set_yticklabels([])\n",
    "\n",
    "    fig.tight_layout()\n",
    "\n",
    "#plot_connectivity_matrix(connectivity, 'test')"
   ]
  },
  {
   "cell_type": "code",
   "execution_count": 5,
   "metadata": {
    "collapsed": false
   },
   "outputs": [],
   "source": [
    "if aalconns_groupname not in file_groups:\n",
    "    from time import time\n",
    "\n",
    "    selection_method   = 'eigen'\n",
    "    similarity_measure = 'mean_coherence'\n",
    "\n",
    "    start = time()\n",
    "    create_group_connectivites(timeseries_h5path, subj_groups, selection_method, similarity_measure)\n",
    "    serial_time = time() - start\n",
    "    print('serial_time: {}'.format(serial_time))\n",
    "    \n",
    "    # save the connectivity matrices into the hdf file\n",
    "    save_variables_to_hdf5(timeseries_h5path, \n",
    "                       {'{}-{}'.format(selection_method, similarity_measure): connectivities},\n",
    "                       mode='a', \n",
    "                       h5path= aalconns_groupname)\n",
    "else:\n",
    "    connectivities = extract_datasets(timeseries_h5path, aalconns_groupname)"
   ]
  },
  {
   "cell_type": "markdown",
   "metadata": {
    "collapsed": false
   },
   "source": [
    "from functools      import partial\n",
    "from boyle.parallel import parallel_function\n",
    "\n",
    "selection_method   = 'eigen'\n",
    "similarity_measure = 'mean_coherence'\n",
    "\n",
    "def get_connectivity(timeseries_h5path, subj_path, selection_method, similarity_measure):\n",
    "    timeseries = get_subject_timeseries(timeseries_h5path, subj_path)\n",
    "    return get_connectivity_matrix(timeseries, selection_method, similarity_measure)\n",
    "\n",
    "\n",
    "get_my_connectivities = partial(get_connectivity, timeseries_file=timeseries_h5path, \n",
    "                                selection_method=selection_method, similarity_measure=similarity_measure)\n",
    "\n",
    "get_my_connectivities.parallel = parallel_function(get_my_connectivities, n_cpus=3)\n",
    "\n",
    "start = time()\n",
    "conns = get_my_connectivities.parallel(subj_groups)\n",
    "\n",
    "connectivities = OrderedDict()\n",
    "for subj_path, conn in zip(subj_groups, conns):\n",
    "    connectivities[subj_path.split('/')[-1]] = conn\n",
    "\n",
    "parallel_time = time() - start\n",
    "print('parallel_time: {}'.format(parallel_time))\n"
   ]
  },
  {
   "cell_type": "code",
   "execution_count": 6,
   "metadata": {
    "collapsed": false
   },
   "outputs": [],
   "source": [
    "#for conn in connectivities:\n",
    "#    plot_connectivity_matrix(connectivities[conn], conn)"
   ]
  },
  {
   "cell_type": "markdown",
   "metadata": {},
   "source": [
    "## Classification"
   ]
  },
  {
   "cell_type": "code",
   "execution_count": 7,
   "metadata": {
    "collapsed": false
   },
   "outputs": [],
   "source": [
    "def extract_lower_triangular_matrix(x, k=0):\n",
    "    \"\"\"Return the lower triangular values of x without the main diagonal.\n",
    "    \n",
    "    Parameters\n",
    "    ----------\n",
    "    x: numpy.ndarray\n",
    "        2D square matrix\n",
    "\n",
    "    k : int, optional\n",
    "        Diagonal above which to zero elements. \n",
    "        k = 0 (the default) is the main diagonal, \n",
    "        k < 0 is below it and \n",
    "        k > 0 is above.\n",
    "\n",
    "    Returns\n",
    "    -------\n",
    "    features: numpy.ndarray\n",
    "        vector\n",
    "    \"\"\"\n",
    "    return x[np.tril_indices_from(x, k=k)]\n",
    "\n",
    "\n",
    "def number_of_triangular_elements(x, k=0):\n",
    "    \"\"\"Return the number of elements that the lower triangular matrix of x has.\n",
    "    \n",
    "    Parameters\n",
    "    ----------\n",
    "    x: numpy.ndarray\n",
    "        2D square matrix\n",
    "\n",
    "    k : int, optional\n",
    "        Diagonal above which to zero elements. \n",
    "        k = 0 (the default) is the main diagonal, \n",
    "        k < 0 is below it and \n",
    "        k > 0 is above.\n",
    "\n",
    "    Returns\n",
    "    -------\n",
    "    n_elems: int\n",
    "        number of elements in the triangular matrix\n",
    "    \"\"\"\n",
    "    if not isinstance(x, np.ndarray):\n",
    "        raise TypeError('Expected a numpy.ndarray, got a {}.'.format(type(x)))\n",
    "\n",
    "    if x.ndim != 2:\n",
    "        raise TypeError('Expected a 2D matrix, got a matrix with {} dimensions.'.format(x.ndim))\n",
    "\n",
    "    if x.shape[0] != x.shape[1]:\n",
    "        raise TypeError('Expected a square matrix, got a matrix with shape {}'.format(x.shape))\n",
    "\n",
    "    if k == 0:\n",
    "        rows    = x.shape[1]\n",
    "        n_elems = 0.5 * ((rows + 1) * rows)\n",
    "    else:\n",
    "        ones    = np.ones_like(x)\n",
    "        n_elems = np.sum(np.tril(x, k=k)) \n",
    "    \n",
    "    return int(n_elems)"
   ]
  },
  {
   "cell_type": "code",
   "execution_count": 9,
   "metadata": {
    "collapsed": false
   },
   "outputs": [],
   "source": [
    "from darwin.pipeline import ClassificationPipeline\n",
    "\n",
    "# create the samples matrix\n",
    "sample     = next (iter (connectivities.values()))\n",
    "n_subjects = len(connectivities)\n",
    "n_features = number_of_triangular_elements(sample)\n",
    "\n",
    "feature_matrix = np.zeros((n_subjects, n_features), dtype=sample.dtype)\n",
    "\n",
    "for idx, conn in enumerate(connectivities):\n",
    "    feature_matrix[idx, :] = extract_lower_triangular_matrix(connectivities[conn])\n",
    "\n",
    "# -- test with darwin\n",
    "classifier_name = 'RBFSVC' #'linsvm'\n",
    "cvmethod = '10'\n",
    "#n_feats = x.shape[1]\n",
    "\n",
    "pipe = ClassificationPipeline(clfmethod=classifier_name, cvmethod=cvmethod)\n",
    "#results, metrics = pipe.cross_validation(x, y)\n"
   ]
  },
  {
   "cell_type": "code",
   "execution_count": 13,
   "metadata": {
    "collapsed": false
   },
   "outputs": [
    {
     "data": {
      "text/plain": [
       "(145, 6786)"
      ]
     },
     "execution_count": 13,
     "metadata": {},
     "output_type": "execute_result"
    }
   ],
   "source": [
    "feature_matrix.shape"
   ]
  },
  {
   "cell_type": "code",
   "execution_count": 15,
   "metadata": {
    "collapsed": false
   },
   "outputs": [
    {
     "name": "stdout",
     "output_type": "stream",
     "text": [
      "1.1212\n"
     ]
    }
   ],
   "source": [
    "def intit(f):\n",
    "    f = int(f)\n",
    "    \n",
    "k = 1.1212\n",
    "intit(k)\n",
    "print(k)"
   ]
  },
  {
   "cell_type": "code",
   "execution_count": 18,
   "metadata": {
    "collapsed": false
   },
   "outputs": [
    {
     "ename": "KeyError",
     "evalue": "",
     "output_type": "error",
     "traceback": [
      "\u001b[0;31m---------------------------------------------------------------------------\u001b[0m",
      "\u001b[0;31mValueError\u001b[0m                                Traceback (most recent call last)",
      "\u001b[0;32m<ipython-input-18-0a32f616ceeb>\u001b[0m in \u001b[0;36m<module>\u001b[0;34m()\u001b[0m\n\u001b[1;32m      1\u001b[0m \u001b[0;32mtry\u001b[0m\u001b[0;34m:\u001b[0m\u001b[0;34m\u001b[0m\u001b[0m\n\u001b[0;32m----> 2\u001b[0;31m     \u001b[0;32mraise\u001b[0m \u001b[0mValueError\u001b[0m\u001b[0;34m(\u001b[0m\u001b[0;34m'asdfasdf'\u001b[0m\u001b[0;34m)\u001b[0m\u001b[0;34m\u001b[0m\u001b[0m\n\u001b[0m\u001b[1;32m      3\u001b[0m \u001b[0;32mexcept\u001b[0m \u001b[0mValueError\u001b[0m \u001b[0;32mas\u001b[0m \u001b[0me\u001b[0m\u001b[0;34m:\u001b[0m\u001b[0;34m\u001b[0m\u001b[0m\n",
      "\u001b[0;31mValueError\u001b[0m: asdfasdf",
      "\nThe above exception was the direct cause of the following exception:\n",
      "\u001b[0;31mKeyError\u001b[0m                                  Traceback (most recent call last)",
      "\u001b[0;32m<ipython-input-18-0a32f616ceeb>\u001b[0m in \u001b[0;36m<module>\u001b[0;34m()\u001b[0m\n\u001b[1;32m      2\u001b[0m     \u001b[0;32mraise\u001b[0m \u001b[0mValueError\u001b[0m\u001b[0;34m(\u001b[0m\u001b[0;34m'asdfasdf'\u001b[0m\u001b[0;34m)\u001b[0m\u001b[0;34m\u001b[0m\u001b[0m\n\u001b[1;32m      3\u001b[0m \u001b[0;32mexcept\u001b[0m \u001b[0mValueError\u001b[0m \u001b[0;32mas\u001b[0m \u001b[0me\u001b[0m\u001b[0;34m:\u001b[0m\u001b[0;34m\u001b[0m\u001b[0m\n\u001b[0;32m----> 4\u001b[0;31m     \u001b[0;32mraise\u001b[0m \u001b[0mKeyError\u001b[0m \u001b[0;32mfrom\u001b[0m \u001b[0me\u001b[0m\u001b[0;34m\u001b[0m\u001b[0m\n\u001b[0m",
      "\u001b[0;31mKeyError\u001b[0m: "
     ]
    }
   ],
   "source": [
    "try:\n",
    "    raise ValueError('asdfasdf')\n",
    "except ValueError as e:\n",
    "    raise KeyError from e"
   ]
  },
  {
   "cell_type": "code",
   "execution_count": null,
   "metadata": {
    "collapsed": true
   },
   "outputs": [],
   "source": []
  }
 ],
 "metadata": {
  "kernelspec": {
   "display_name": "Python 3",
   "language": "python",
   "name": "python3"
  },
  "language_info": {
   "codemirror_mode": {
    "name": "ipython",
    "version": 3
   },
   "file_extension": ".py",
   "mimetype": "text/x-python",
   "name": "python",
   "nbconvert_exporter": "python",
   "pygments_lexer": "ipython3",
   "version": "3.4.3"
  }
 },
 "nbformat": 4,
 "nbformat_minor": 0
}
